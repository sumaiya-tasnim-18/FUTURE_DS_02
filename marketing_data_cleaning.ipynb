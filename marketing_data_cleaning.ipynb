{
 "cells": [
  {
   "cell_type": "markdown",
   "id": "c9527f64",
   "metadata": {},
   "source": [
    "# Dataset: marketing_data\n",
    "# Data Preprocessing"
   ]
  },
  {
   "cell_type": "markdown",
   "id": "f4853bb5",
   "metadata": {},
   "source": [
    "importing necessary libraries"
   ]
  },
  {
   "cell_type": "code",
   "execution_count": 29,
   "id": "4e9066f4",
   "metadata": {},
   "outputs": [],
   "source": [
    "import numpy as np\n",
    "import pandas as pd\n",
    "import re"
   ]
  },
  {
   "cell_type": "markdown",
   "id": "3a4544ae",
   "metadata": {},
   "source": [
    "Loading Dataset"
   ]
  },
  {
   "cell_type": "code",
   "execution_count": 30,
   "id": "b60f5b24",
   "metadata": {},
   "outputs": [],
   "source": [
    "df = pd.read_csv(\"marketing_data.csv\")"
   ]
  },
  {
   "cell_type": "markdown",
   "id": "8fa9c5a4",
   "metadata": {},
   "source": [
    "Total rows & columns"
   ]
  },
  {
   "cell_type": "code",
   "execution_count": 31,
   "id": "6ca1bce1",
   "metadata": {},
   "outputs": [
    {
     "name": "stdout",
     "output_type": "stream",
     "text": [
      "Total rows: 2240\n",
      "Total columns: 28\n"
     ]
    }
   ],
   "source": [
    "# Total rows\n",
    "total_rows = df.shape[0]\n",
    "print(\"Total rows:\", total_rows)\n",
    "\n",
    "# Total columns\n",
    "total_columns = df.shape[1]\n",
    "print(\"Total columns:\", total_columns)\n"
   ]
  },
  {
   "cell_type": "markdown",
   "id": "493b2188",
   "metadata": {},
   "source": [
    "Checking missing values per column"
   ]
  },
  {
   "cell_type": "code",
   "execution_count": 32,
   "id": "bedc466a",
   "metadata": {},
   "outputs": [
    {
     "name": "stdout",
     "output_type": "stream",
     "text": [
      "ID                      0\n",
      "Year_Birth              0\n",
      "Education               0\n",
      "Marital_Status          0\n",
      "Income                 24\n",
      "Kidhome                 0\n",
      "Teenhome                0\n",
      "Dt_Customer             0\n",
      "Recency                 0\n",
      "MntWines                0\n",
      "MntFruits               0\n",
      "MntMeatProducts         0\n",
      "MntFishProducts         0\n",
      "MntSweetProducts        0\n",
      "MntGoldProds            0\n",
      "NumDealsPurchases       0\n",
      "NumWebPurchases         0\n",
      "NumCatalogPurchases     0\n",
      "NumStorePurchases       0\n",
      "NumWebVisitsMonth       0\n",
      "AcceptedCmp3            0\n",
      "AcceptedCmp4            0\n",
      "AcceptedCmp5            0\n",
      "AcceptedCmp1            0\n",
      "AcceptedCmp2            0\n",
      "Response                0\n",
      "Complain                0\n",
      "Country                 0\n",
      "dtype: int64\n"
     ]
    }
   ],
   "source": [
    "missing_values = df.isnull().sum()\n",
    "print(missing_values)"
   ]
  },
  {
   "cell_type": "markdown",
   "id": "9258094b",
   "metadata": {},
   "source": [
    "filling the missing Income values with 0"
   ]
  },
  {
   "cell_type": "code",
   "execution_count": 34,
   "id": "90fa601b",
   "metadata": {},
   "outputs": [],
   "source": [
    "def clean_income(val):\n",
    "   \n",
    "    if pd.isna(val):\n",
    "        return 0.0\n",
    "    s = str(val).strip()\n",
    "    \n",
    "    s = re.sub(r'[^0-9\\.\\-]', '', s)\n",
    "    \n",
    "    if s in ['', '.', '-', '-.']:\n",
    "        return 0.0\n",
    "    \n",
    "    if s.count('.') > 1:\n",
    "        parts = s.split('.')\n",
    "        s = parts[0] + '.' + ''.join(parts[1:])\n",
    "    try:\n",
    "        return float(s)\n",
    "    except:\n",
    "        return 0.0\n",
    "\n",
    "df['Income'] = df['Income'].apply(clean_income)"
   ]
  },
  {
   "cell_type": "code",
   "execution_count": 35,
   "id": "2a2798bb",
   "metadata": {},
   "outputs": [
    {
     "data": {
      "text/plain": [
       "0    84835.0\n",
       "1    57091.0\n",
       "2    67267.0\n",
       "3    32474.0\n",
       "4    21474.0\n",
       "Name: Income, dtype: float64"
      ]
     },
     "execution_count": 35,
     "metadata": {},
     "output_type": "execute_result"
    }
   ],
   "source": [
    "df['Income'].head()"
   ]
  },
  {
   "cell_type": "markdown",
   "id": "45123bd4",
   "metadata": {},
   "source": [
    "Verifying if there remains missing values"
   ]
  },
  {
   "cell_type": "code",
   "execution_count": 36,
   "id": "99830ebc",
   "metadata": {},
   "outputs": [
    {
     "data": {
      "text/plain": [
       "ID                     0\n",
       "Year_Birth             0\n",
       "Education              0\n",
       "Marital_Status         0\n",
       "Income                 0\n",
       "Kidhome                0\n",
       "Teenhome               0\n",
       "Dt_Customer            0\n",
       "Recency                0\n",
       "MntWines               0\n",
       "MntFruits              0\n",
       "MntMeatProducts        0\n",
       "MntFishProducts        0\n",
       "MntSweetProducts       0\n",
       "MntGoldProds           0\n",
       "NumDealsPurchases      0\n",
       "NumWebPurchases        0\n",
       "NumCatalogPurchases    0\n",
       "NumStorePurchases      0\n",
       "NumWebVisitsMonth      0\n",
       "AcceptedCmp3           0\n",
       "AcceptedCmp4           0\n",
       "AcceptedCmp5           0\n",
       "AcceptedCmp1           0\n",
       "AcceptedCmp2           0\n",
       "Response               0\n",
       "Complain               0\n",
       "Country                0\n",
       "dtype: int64"
      ]
     },
     "execution_count": 36,
     "metadata": {},
     "output_type": "execute_result"
    }
   ],
   "source": [
    "df.isnull().sum()"
   ]
  },
  {
   "cell_type": "markdown",
   "id": "93b1124d",
   "metadata": {},
   "source": [
    "Checking Datatypes"
   ]
  },
  {
   "cell_type": "code",
   "execution_count": 37,
   "id": "a4275018",
   "metadata": {},
   "outputs": [
    {
     "data": {
      "text/plain": [
       "ID                       int64\n",
       "Year_Birth               int64\n",
       "Education               object\n",
       "Marital_Status          object\n",
       "Income                 float64\n",
       "Kidhome                  int64\n",
       "Teenhome                 int64\n",
       "Dt_Customer             object\n",
       "Recency                  int64\n",
       "MntWines                 int64\n",
       "MntFruits                int64\n",
       "MntMeatProducts          int64\n",
       "MntFishProducts          int64\n",
       "MntSweetProducts         int64\n",
       "MntGoldProds             int64\n",
       "NumDealsPurchases        int64\n",
       "NumWebPurchases          int64\n",
       "NumCatalogPurchases      int64\n",
       "NumStorePurchases        int64\n",
       "NumWebVisitsMonth        int64\n",
       "AcceptedCmp3             int64\n",
       "AcceptedCmp4             int64\n",
       "AcceptedCmp5             int64\n",
       "AcceptedCmp1             int64\n",
       "AcceptedCmp2             int64\n",
       "Response                 int64\n",
       "Complain                 int64\n",
       "Country                 object\n",
       "dtype: object"
      ]
     },
     "execution_count": 37,
     "metadata": {},
     "output_type": "execute_result"
    }
   ],
   "source": [
    "df.dtypes"
   ]
  },
  {
   "cell_type": "markdown",
   "id": "7494c936",
   "metadata": {},
   "source": [
    "necessary conversions are:\n",
    "\n",
    "Income → numeric (float) = was done before\n",
    "\n",
    "Dt_Customer → datetime"
   ]
  },
  {
   "cell_type": "code",
   "execution_count": 38,
   "id": "c48b78af",
   "metadata": {},
   "outputs": [],
   "source": [
    "# Converting Dt_Customer to datetime; replace invalid dates with current date\n",
    "def convert_date(val):\n",
    "    try:\n",
    "        return pd.to_datetime(val, format='%m/%d/%y')\n",
    "    except:\n",
    "        return pd.to_datetime(datetime.today().date())\n",
    "\n",
    "df['Dt_Customer'] = df['Dt_Customer'].apply(convert_date)"
   ]
  },
  {
   "cell_type": "markdown",
   "id": "cf76bac1",
   "metadata": {},
   "source": [
    "verifying datatypes"
   ]
  },
  {
   "cell_type": "code",
   "execution_count": 39,
   "id": "909d4cd5",
   "metadata": {},
   "outputs": [
    {
     "data": {
      "text/plain": [
       "ID                              int64\n",
       "Year_Birth                      int64\n",
       "Education                      object\n",
       "Marital_Status                 object\n",
       "Income                        float64\n",
       "Kidhome                         int64\n",
       "Teenhome                        int64\n",
       "Dt_Customer            datetime64[ns]\n",
       "Recency                         int64\n",
       "MntWines                        int64\n",
       "MntFruits                       int64\n",
       "MntMeatProducts                 int64\n",
       "MntFishProducts                 int64\n",
       "MntSweetProducts                int64\n",
       "MntGoldProds                    int64\n",
       "NumDealsPurchases               int64\n",
       "NumWebPurchases                 int64\n",
       "NumCatalogPurchases             int64\n",
       "NumStorePurchases               int64\n",
       "NumWebVisitsMonth               int64\n",
       "AcceptedCmp3                    int64\n",
       "AcceptedCmp4                    int64\n",
       "AcceptedCmp5                    int64\n",
       "AcceptedCmp1                    int64\n",
       "AcceptedCmp2                    int64\n",
       "Response                        int64\n",
       "Complain                        int64\n",
       "Country                        object\n",
       "dtype: object"
      ]
     },
     "execution_count": 39,
     "metadata": {},
     "output_type": "execute_result"
    }
   ],
   "source": [
    "df.dtypes"
   ]
  },
  {
   "cell_type": "markdown",
   "id": "2f93ffb8",
   "metadata": {},
   "source": [
    "Checking duplicate rows"
   ]
  },
  {
   "cell_type": "code",
   "execution_count": 40,
   "id": "ccf79f81",
   "metadata": {},
   "outputs": [
    {
     "name": "stdout",
     "output_type": "stream",
     "text": [
      "Total duplicate rows: 0\n"
     ]
    }
   ],
   "source": [
    "duplicate_rows = df.duplicated()\n",
    "print(\"Total duplicate rows:\", duplicate_rows.sum())"
   ]
  },
  {
   "cell_type": "markdown",
   "id": "dc09ac36",
   "metadata": {},
   "source": [
    "Checking Inconsistences"
   ]
  },
  {
   "cell_type": "code",
   "execution_count": 41,
   "id": "14e21fb4",
   "metadata": {},
   "outputs": [
    {
     "name": "stdout",
     "output_type": "stream",
     "text": [
      "Education unique values:\n",
      " ['Graduation' 'PhD' '2n Cycle' 'Master' 'Basic'] \n",
      "\n",
      "Marital_Status unique values:\n",
      " ['Divorced' 'Single' 'Married' 'Together' 'Widow' 'YOLO' 'Alone' 'Absurd'] \n",
      "\n",
      "Country unique values:\n",
      " ['SP' 'CA' 'US' 'AUS' 'GER' 'IND' 'SA' 'ME'] \n",
      "\n"
     ]
    }
   ],
   "source": [
    "# unique values for categorical columns\n",
    "categorical_cols = ['Education', 'Marital_Status', 'Country']\n",
    "for col in categorical_cols:\n",
    "    print(f\"{col} unique values:\\n\", df[col].unique(), \"\\n\")\n"
   ]
  },
  {
   "cell_type": "code",
   "execution_count": 42,
   "id": "f0a9f8d3",
   "metadata": {},
   "outputs": [
    {
     "name": "stdout",
     "output_type": "stream",
     "text": [
      "Income min/max: 0.0 666666.0\n",
      "Recency min/max: 0 99\n",
      "MntWines min/max: 0 1493\n",
      "MntFruits min/max: 0 199\n",
      "MntMeatProducts min/max: 0 1725\n",
      "MntFishProducts min/max: 0 259\n",
      "MntSweetProducts min/max: 0 263\n",
      "MntGoldProds min/max: 0 362\n",
      "NumDealsPurchases min/max: 0 15\n",
      "NumWebPurchases min/max: 0 27\n",
      "NumCatalogPurchases min/max: 0 28\n",
      "NumStorePurchases min/max: 0 13\n",
      "NumWebVisitsMonth min/max: 0 20\n"
     ]
    }
   ],
   "source": [
    "# Checking for negative or suspicious numeric values\n",
    "numeric_cols = ['Income', 'Recency', 'MntWines', 'MntFruits', 'MntMeatProducts', \n",
    "                'MntFishProducts', 'MntSweetProducts', 'MntGoldProds',\n",
    "                'NumDealsPurchases', 'NumWebPurchases', 'NumCatalogPurchases',\n",
    "                'NumStorePurchases', 'NumWebVisitsMonth']\n",
    "\n",
    "for col in numeric_cols:\n",
    "    print(f\"{col} min/max:\", df[col].min(), df[col].max())\n"
   ]
  },
  {
   "cell_type": "code",
   "execution_count": 43,
   "id": "a125b612",
   "metadata": {},
   "outputs": [
    {
     "name": "stdout",
     "output_type": "stream",
     "text": [
      "Customer date range: 2012-07-30 00:00:00 to 2014-06-29 00:00:00\n"
     ]
    }
   ],
   "source": [
    "# Checking for abnormal dates\n",
    "print(\"Customer date range:\", df['Dt_Customer'].min(), \"to\", df['Dt_Customer'].max())"
   ]
  },
  {
   "cell_type": "code",
   "execution_count": 44,
   "id": "c2d58e91",
   "metadata": {},
   "outputs": [
    {
     "data": {
      "text/plain": [
       "0   2014-06-16\n",
       "1   2014-06-15\n",
       "2   2014-05-13\n",
       "3   2014-05-11\n",
       "4   2014-04-08\n",
       "5   2014-03-17\n",
       "6   2014-01-29\n",
       "7   2014-01-18\n",
       "8   2014-01-11\n",
       "9   2014-01-11\n",
       "Name: Dt_Customer, dtype: datetime64[ns]"
      ]
     },
     "execution_count": 44,
     "metadata": {},
     "output_type": "execute_result"
    }
   ],
   "source": [
    "df['Dt_Customer'].head(10)"
   ]
  },
  {
   "cell_type": "markdown",
   "id": "8876303b",
   "metadata": {},
   "source": [
    "Correction of categorical column's values"
   ]
  },
  {
   "cell_type": "code",
   "execution_count": 45,
   "id": "fbd644b0",
   "metadata": {},
   "outputs": [],
   "source": [
    "# Replacing \"2n Cycle\" → \"2nd Cycle\"\n",
    "df['Education'] = df['Education'].replace({'2n Cycle': '2nd Cycle'})\n",
    "\n",
    "# Replacing all invalid entries ('YOLO', 'Alone', 'Absurd') → \"Other\"\n",
    "valid_status = ['Divorced', 'Single', 'Married', 'Together', 'Widow']\n",
    "df['Marital_Status'] = df['Marital_Status'].apply(lambda x: x if x in valid_status else 'Other')\n",
    "\n",
    "# Replacing codes with full country names:\n",
    "country_map = {\n",
    "    'SP': 'Spain',\n",
    "    'CA': 'Canada',\n",
    "    'US': 'United States',\n",
    "    'AUS': 'Australia',\n",
    "    'GER': 'Germany',\n",
    "    'IND': 'India',\n",
    "    'SA': 'Saudi Arabia',\n",
    "    'ME': 'Mexico'\n",
    "}\n",
    "\n",
    "df['Country'] = df['Country'].replace(country_map)"
   ]
  },
  {
   "cell_type": "markdown",
   "id": "9aae8176",
   "metadata": {},
   "source": [
    "verifying Categorical column's consistency"
   ]
  },
  {
   "cell_type": "code",
   "execution_count": 46,
   "id": "adabb6ba",
   "metadata": {},
   "outputs": [
    {
     "name": "stdout",
     "output_type": "stream",
     "text": [
      "['Graduation' 'PhD' '2nd Cycle' 'Master' 'Basic']\n",
      "['Divorced' 'Single' 'Married' 'Together' 'Widow' 'Other']\n",
      "['Spain' 'Canada' 'United States' 'Australia' 'Germany' 'India'\n",
      " 'Saudi Arabia' 'Mexico']\n"
     ]
    }
   ],
   "source": [
    "print(df['Education'].unique())\n",
    "print(df['Marital_Status'].unique())\n",
    "print(df['Country'].unique())"
   ]
  },
  {
   "cell_type": "markdown",
   "id": "e0f4e598",
   "metadata": {},
   "source": [
    "viewing the dataset"
   ]
  },
  {
   "cell_type": "code",
   "execution_count": 47,
   "id": "2792e47c",
   "metadata": {},
   "outputs": [
    {
     "data": {
      "text/html": [
       "<div>\n",
       "<style scoped>\n",
       "    .dataframe tbody tr th:only-of-type {\n",
       "        vertical-align: middle;\n",
       "    }\n",
       "\n",
       "    .dataframe tbody tr th {\n",
       "        vertical-align: top;\n",
       "    }\n",
       "\n",
       "    .dataframe thead th {\n",
       "        text-align: right;\n",
       "    }\n",
       "</style>\n",
       "<table border=\"1\" class=\"dataframe\">\n",
       "  <thead>\n",
       "    <tr style=\"text-align: right;\">\n",
       "      <th></th>\n",
       "      <th>ID</th>\n",
       "      <th>Year_Birth</th>\n",
       "      <th>Education</th>\n",
       "      <th>Marital_Status</th>\n",
       "      <th>Income</th>\n",
       "      <th>Kidhome</th>\n",
       "      <th>Teenhome</th>\n",
       "      <th>Dt_Customer</th>\n",
       "      <th>Recency</th>\n",
       "      <th>MntWines</th>\n",
       "      <th>...</th>\n",
       "      <th>NumStorePurchases</th>\n",
       "      <th>NumWebVisitsMonth</th>\n",
       "      <th>AcceptedCmp3</th>\n",
       "      <th>AcceptedCmp4</th>\n",
       "      <th>AcceptedCmp5</th>\n",
       "      <th>AcceptedCmp1</th>\n",
       "      <th>AcceptedCmp2</th>\n",
       "      <th>Response</th>\n",
       "      <th>Complain</th>\n",
       "      <th>Country</th>\n",
       "    </tr>\n",
       "  </thead>\n",
       "  <tbody>\n",
       "    <tr>\n",
       "      <th>0</th>\n",
       "      <td>1826</td>\n",
       "      <td>1970</td>\n",
       "      <td>Graduation</td>\n",
       "      <td>Divorced</td>\n",
       "      <td>84835.0</td>\n",
       "      <td>0</td>\n",
       "      <td>0</td>\n",
       "      <td>2014-06-16</td>\n",
       "      <td>0</td>\n",
       "      <td>189</td>\n",
       "      <td>...</td>\n",
       "      <td>6</td>\n",
       "      <td>1</td>\n",
       "      <td>0</td>\n",
       "      <td>0</td>\n",
       "      <td>0</td>\n",
       "      <td>0</td>\n",
       "      <td>0</td>\n",
       "      <td>1</td>\n",
       "      <td>0</td>\n",
       "      <td>Spain</td>\n",
       "    </tr>\n",
       "    <tr>\n",
       "      <th>1</th>\n",
       "      <td>1</td>\n",
       "      <td>1961</td>\n",
       "      <td>Graduation</td>\n",
       "      <td>Single</td>\n",
       "      <td>57091.0</td>\n",
       "      <td>0</td>\n",
       "      <td>0</td>\n",
       "      <td>2014-06-15</td>\n",
       "      <td>0</td>\n",
       "      <td>464</td>\n",
       "      <td>...</td>\n",
       "      <td>7</td>\n",
       "      <td>5</td>\n",
       "      <td>0</td>\n",
       "      <td>0</td>\n",
       "      <td>0</td>\n",
       "      <td>0</td>\n",
       "      <td>1</td>\n",
       "      <td>1</td>\n",
       "      <td>0</td>\n",
       "      <td>Canada</td>\n",
       "    </tr>\n",
       "    <tr>\n",
       "      <th>2</th>\n",
       "      <td>10476</td>\n",
       "      <td>1958</td>\n",
       "      <td>Graduation</td>\n",
       "      <td>Married</td>\n",
       "      <td>67267.0</td>\n",
       "      <td>0</td>\n",
       "      <td>1</td>\n",
       "      <td>2014-05-13</td>\n",
       "      <td>0</td>\n",
       "      <td>134</td>\n",
       "      <td>...</td>\n",
       "      <td>5</td>\n",
       "      <td>2</td>\n",
       "      <td>0</td>\n",
       "      <td>0</td>\n",
       "      <td>0</td>\n",
       "      <td>0</td>\n",
       "      <td>0</td>\n",
       "      <td>0</td>\n",
       "      <td>0</td>\n",
       "      <td>United States</td>\n",
       "    </tr>\n",
       "    <tr>\n",
       "      <th>3</th>\n",
       "      <td>1386</td>\n",
       "      <td>1967</td>\n",
       "      <td>Graduation</td>\n",
       "      <td>Together</td>\n",
       "      <td>32474.0</td>\n",
       "      <td>1</td>\n",
       "      <td>1</td>\n",
       "      <td>2014-05-11</td>\n",
       "      <td>0</td>\n",
       "      <td>10</td>\n",
       "      <td>...</td>\n",
       "      <td>2</td>\n",
       "      <td>7</td>\n",
       "      <td>0</td>\n",
       "      <td>0</td>\n",
       "      <td>0</td>\n",
       "      <td>0</td>\n",
       "      <td>0</td>\n",
       "      <td>0</td>\n",
       "      <td>0</td>\n",
       "      <td>Australia</td>\n",
       "    </tr>\n",
       "    <tr>\n",
       "      <th>4</th>\n",
       "      <td>5371</td>\n",
       "      <td>1989</td>\n",
       "      <td>Graduation</td>\n",
       "      <td>Single</td>\n",
       "      <td>21474.0</td>\n",
       "      <td>1</td>\n",
       "      <td>0</td>\n",
       "      <td>2014-04-08</td>\n",
       "      <td>0</td>\n",
       "      <td>6</td>\n",
       "      <td>...</td>\n",
       "      <td>2</td>\n",
       "      <td>7</td>\n",
       "      <td>1</td>\n",
       "      <td>0</td>\n",
       "      <td>0</td>\n",
       "      <td>0</td>\n",
       "      <td>0</td>\n",
       "      <td>1</td>\n",
       "      <td>0</td>\n",
       "      <td>Spain</td>\n",
       "    </tr>\n",
       "  </tbody>\n",
       "</table>\n",
       "<p>5 rows × 28 columns</p>\n",
       "</div>"
      ],
      "text/plain": [
       "      ID  Year_Birth   Education Marital_Status   Income  Kidhome  Teenhome  \\\n",
       "0   1826        1970  Graduation       Divorced  84835.0        0         0   \n",
       "1      1        1961  Graduation         Single  57091.0        0         0   \n",
       "2  10476        1958  Graduation        Married  67267.0        0         1   \n",
       "3   1386        1967  Graduation       Together  32474.0        1         1   \n",
       "4   5371        1989  Graduation         Single  21474.0        1         0   \n",
       "\n",
       "  Dt_Customer  Recency  MntWines  ...  NumStorePurchases  NumWebVisitsMonth  \\\n",
       "0  2014-06-16        0       189  ...                  6                  1   \n",
       "1  2014-06-15        0       464  ...                  7                  5   \n",
       "2  2014-05-13        0       134  ...                  5                  2   \n",
       "3  2014-05-11        0        10  ...                  2                  7   \n",
       "4  2014-04-08        0         6  ...                  2                  7   \n",
       "\n",
       "   AcceptedCmp3  AcceptedCmp4  AcceptedCmp5  AcceptedCmp1  AcceptedCmp2  \\\n",
       "0             0             0             0             0             0   \n",
       "1             0             0             0             0             1   \n",
       "2             0             0             0             0             0   \n",
       "3             0             0             0             0             0   \n",
       "4             1             0             0             0             0   \n",
       "\n",
       "   Response  Complain        Country  \n",
       "0         1         0          Spain  \n",
       "1         1         0         Canada  \n",
       "2         0         0  United States  \n",
       "3         0         0      Australia  \n",
       "4         1         0          Spain  \n",
       "\n",
       "[5 rows x 28 columns]"
      ]
     },
     "execution_count": 47,
     "metadata": {},
     "output_type": "execute_result"
    }
   ],
   "source": [
    "df.head()"
   ]
  },
  {
   "cell_type": "markdown",
   "id": "dfab01c8",
   "metadata": {},
   "source": [
    "Exporting Cleaned dataset"
   ]
  },
  {
   "cell_type": "code",
   "execution_count": 48,
   "id": "b93c23e8",
   "metadata": {},
   "outputs": [],
   "source": [
    "df.to_csv(\"Marketing_Campaign_Data.csv\", index=False)"
   ]
  },
  {
   "cell_type": "markdown",
   "id": "cf8df966",
   "metadata": {},
   "source": [
    "# Finally Dataset is Cleaned! Ready for CAMPAIGN PERFORMANCE TRACKER."
   ]
  }
 ],
 "metadata": {
  "kernelspec": {
   "display_name": "Python 3",
   "language": "python",
   "name": "python3"
  },
  "language_info": {
   "codemirror_mode": {
    "name": "ipython",
    "version": 3
   },
   "file_extension": ".py",
   "mimetype": "text/x-python",
   "name": "python",
   "nbconvert_exporter": "python",
   "pygments_lexer": "ipython3",
   "version": "3.12.8"
  }
 },
 "nbformat": 4,
 "nbformat_minor": 5
}
